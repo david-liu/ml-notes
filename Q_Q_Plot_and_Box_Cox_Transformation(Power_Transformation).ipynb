{
  "nbformat": 4,
  "nbformat_minor": 0,
  "metadata": {
    "kernelspec": {
      "display_name": "Python 3.6.8 64-bit ('ai_demo': conda)",
      "language": "python",
      "name": "python36864bitaidemocondad339f249c61647ab959aef5dc3e91dad"
    },
    "language_info": {
      "codemirror_mode": {
        "name": "ipython",
        "version": 3
      },
      "file_extension": ".py",
      "mimetype": "text/x-python",
      "name": "python",
      "nbconvert_exporter": "python",
      "pygments_lexer": "ipython3",
      "version": "3.6.8"
    },
    "colab": {
      "name": "Q-Q Plot and Box-Cox Transformation(Power Transformation).ipynb",
      "provenance": [],
      "collapsed_sections": [],
      "include_colab_link": true
    }
  },
  "cells": [
    {
      "cell_type": "markdown",
      "metadata": {
        "id": "view-in-github",
        "colab_type": "text"
      },
      "source": [
        "<a href=\"https://colab.research.google.com/github/david-liu/ml-notes/blob/master/Q_Q_Plot_and_Box_Cox_Transformation(Power_Transformation).ipynb\" target=\"_parent\"><img src=\"https://colab.research.google.com/assets/colab-badge.svg\" alt=\"Open In Colab\"/></a>"
      ]
    },
    {
      "cell_type": "markdown",
      "metadata": {
        "id": "UNl4WbAXhszZ",
        "colab_type": "text"
      },
      "source": [
        "# Q-Q Plot and Box-Cox Transformation(Power Transformation)\n",
        "\n",
        "+ Author: David Liu\n",
        "+ Date: 2020/2/2"
      ]
    },
    {
      "cell_type": "markdown",
      "metadata": {
        "id": "vH_YJTWrhszd",
        "colab_type": "text"
      },
      "source": [
        "## Introduction\n",
        "\n",
        "Normal(Gaussian) Normal is a very importance distribution in statistics, which has many properties, including as the 68-95-99.7 (empirical) rule, or the 3-sigma rule. But given observations of a R.V, we also have following question\n",
        "\n",
        "+ (**Q1**) Does the  available dataset follows Normal distribution \n",
        "+ (**Q2**) If current distribution is not normal distribution, can we convert it to the normal distribution\n",
        "\n",
        "For the first question, we can use Q-Q plot to campare current distribut to normal distrition, and for the second question, Box-Cox transformation is a important tool to make the data  normal distribution-like\n"
      ]
    },
    {
      "cell_type": "markdown",
      "metadata": {
        "id": "zYXEAX7Yhsze",
        "colab_type": "text"
      },
      "source": [
        "## Q-Q Plot\n",
        "\n",
        ">A Q–Q (quantile-quantile) plot is a probability plot, which is a graphical method for comparing two probability distributions by plotting their quantiles against each other.\n",
        "\n",
        "\n",
        "Q-Q plot a powerful tool to check whether the data is normally distributed.\n",
        "\n",
        "It shows the distribution of the data against the expected normal distribution.\n",
        "\n",
        "![alt text](https://www.learnbyexample.org/wp-content/uploads/r/typical-quantile-quantile-qq-plot.png)\n",
        "\n",
        "If the data is normally distributed, the points fall on the 45° reference line. If the data is non-normal, the points deviate noticeably from the reference line."
      ]
    },
    {
      "cell_type": "markdown",
      "metadata": {
        "id": "IsAMWMp9hszf",
        "colab_type": "text"
      },
      "source": [
        "### Steps to a Q-Q graph\n",
        "\n",
        "Consider we have a set X with the following data points:\n",
        "\n",
        "$$\n",
        "X = \\{x_1, x_2, \\dots, x_n\\}\n",
        "$$\n",
        "\n"
      ]
    },
    {
      "cell_type": "markdown",
      "metadata": {
        "id": "6weZ7EhZhszl",
        "colab_type": "text"
      },
      "source": [
        "#### Step 1: Order the items from smallest to largest.\n",
        "The first step is to make a list sorted in ascending order for the values of x as:\n",
        "\n",
        "$$\n",
        "X = \\{x_1^{'}, x_2^{'}, \\dots, x_n^{'}\\}\n",
        "$$\n",
        "    \n",
        "#### Step 2: Calculate the percentiles\n",
        "After we arranged the list of all the data points in an ascending ordered list, we need to compute the percentile values for the above list and obtain percentile values for the same(we took 100 percentile values).\n",
        "\n",
        "#### Step 3: Calculate the  percentiles Normal distribution\n",
        "Now, we need to get a set which is Normally Distributed (for the sake of this example) as follows and compute the percentiles for this list similar to the set X.\n",
        "\n",
        "#### Step 4: Draw the Q-Q plot\n",
        "We have obtained the list of 100 values for both the sets(ordered X percentiles and theoretical quantiles from Y)."
      ]
    },
    {
      "cell_type": "markdown",
      "metadata": {
        "id": "KVRriIeuhszn",
        "colab_type": "text"
      },
      "source": [
        "#### Step 5: Drawing Inference\n",
        "\n",
        "If the points plotted on the graph lie on a **straight line**, then we can easily conclude that both the sets of data have similar distribution (In this case we can say that X is Normally Distributed)"
      ]
    },
    {
      "cell_type": "markdown",
      "metadata": {
        "id": "HRF_LNgZhszo",
        "colab_type": "text"
      },
      "source": [
        "### Examples\n",
        "\n",
        "Asssume get a 1000 observation from a normal distribution $N(5.2, 0.1)$"
      ]
    },
    {
      "cell_type": "code",
      "metadata": {
        "id": "trmUDQzHhszp",
        "colab_type": "code",
        "colab": {}
      },
      "source": [
        "import numpy as np\n",
        "\n",
        "mu=5.2\n",
        "simga=0.1\n",
        "\n",
        "observations = np.random.normal(loc=mu, scale=simga, size=1000)\n"
      ],
      "execution_count": 0,
      "outputs": []
    },
    {
      "cell_type": "markdown",
      "metadata": {
        "id": "EnRq2fOUhszs",
        "colab_type": "text"
      },
      "source": [
        "We can calculate the percentiles of the obversions"
      ]
    },
    {
      "cell_type": "code",
      "metadata": {
        "id": "si5l3-a1hszt",
        "colab_type": "code",
        "colab": {}
      },
      "source": [
        "ob_percentiles = np.percentile(observations, range(1, 101, 1))"
      ],
      "execution_count": 0,
      "outputs": []
    },
    {
      "cell_type": "markdown",
      "metadata": {
        "id": "XisG_1aXhszw",
        "colab_type": "text"
      },
      "source": [
        "we can caculate the percentiles of a standard normal distribution"
      ]
    },
    {
      "cell_type": "code",
      "metadata": {
        "id": "PiKvkuT2hszx",
        "colab_type": "code",
        "colab": {}
      },
      "source": [
        "std_observations =  np.random.normal(loc=0, scale=1, size=1000)\n",
        "\n",
        "theory_percentiles = np.percentile(std_observations, range(1, 101, 1))"
      ],
      "execution_count": 0,
      "outputs": []
    },
    {
      "cell_type": "markdown",
      "metadata": {
        "id": "EDmRsiMghsz0",
        "colab_type": "text"
      },
      "source": [
        "Now we can draw the Q-Q plot"
      ]
    },
    {
      "cell_type": "code",
      "metadata": {
        "id": "a2N5eRvLhsz1",
        "colab_type": "code",
        "outputId": "cf08629b-fece-4623-b12a-30bd9244b6ae",
        "colab": {}
      },
      "source": [
        "observations.shape"
      ],
      "execution_count": 0,
      "outputs": [
        {
          "output_type": "execute_result",
          "data": {
            "text/plain": [
              "(1000,)"
            ]
          },
          "metadata": {
            "tags": []
          },
          "execution_count": 16
        }
      ]
    },
    {
      "cell_type": "code",
      "metadata": {
        "id": "uR0dwGbThsz4",
        "colab_type": "code",
        "outputId": "2eb4d919-283f-4594-c40d-428fcfe19a0d",
        "colab": {}
      },
      "source": [
        "%matplotlib inline\n",
        "import seaborn as sns\n",
        "\n",
        "sns.regplot(theory_percentiles, ob_percentiles)"
      ],
      "execution_count": 0,
      "outputs": [
        {
          "output_type": "execute_result",
          "data": {
            "text/plain": [
              "<matplotlib.axes._subplots.AxesSubplot at 0x1a20e07518>"
            ]
          },
          "metadata": {
            "tags": []
          },
          "execution_count": 20
        },
        {
          "output_type": "display_data",
          "data": {
            "image/png": "[encoded data removed]",
            "text/plain": [
              "<Figure size 432x288 with 1 Axes>"
            ]
          },
          "metadata": {
            "tags": [],
            "needs_background": "light"
          }
        }
      ]
    },
    {
      "cell_type": "code",
      "metadata": {
        "id": "7KcPrdOThsz8",
        "colab_type": "code",
        "outputId": "7562a2ae-2f9e-4306-e494-12df8f8abe4c",
        "colab": {}
      },
      "source": [
        "from scipy import stats\n",
        "import pylab\n",
        "\n",
        "stats.probplot(observations, dist=stats.norm, plot=pylab)\n",
        "pylab.show()"
      ],
      "execution_count": 0,
      "outputs": [
        {
          "output_type": "display_data",
          "data": {
            "image/png": "[encoded data removed]",
            "text/plain": [
              "<Figure size 432x288 with 1 Axes>"
            ]
          },
          "metadata": {
            "tags": [],
            "needs_background": "light"
          }
        }
      ]
    },
    {
      "cell_type": "markdown",
      "metadata": {
        "id": "xNzkvgSDhsz_",
        "colab_type": "text"
      },
      "source": [
        "## Box-Cox Transformation"
      ]
    },
    {
      "cell_type": "markdown",
      "metadata": {
        "id": "k26mLVmBhsz_",
        "colab_type": "text"
      },
      "source": [
        "Normality is an important assumption for many statistical techniques; if your data isn’t normal, Box-Cox Transformation is a useful data transformation technique used to stabilize variance, make the data more normal distribution-lik\n"
      ]
    },
    {
      "cell_type": "markdown",
      "metadata": {
        "id": "iZn7p0r_hs0A",
        "colab_type": "text"
      },
      "source": [
        "### Transformation\n",
        "\n",
        "The transformation relies primarily on a lambda ($\\lambda$) variable that holds a value between $-5$ and $5$ that is automatically calculated to be optimal for your data. Specifically, the data is transformed in the following way:\n",
        "\n",
        "![image.png](attachment:image.png)"
      ]
    },
    {
      "cell_type": "markdown",
      "metadata": {
        "id": "fvcHujUuhs0B",
        "colab_type": "text"
      },
      "source": [
        "### Example\n",
        "\n",
        "Let us some sample data from the [Beurea of Transportation Statistics](https://www.transtats.bts.gov/DL_SelectFields.asp?Table_ID=236), specifically flight duration"
      ]
    },
    {
      "cell_type": "code",
      "metadata": {
        "id": "ukZsAxa5hs0C",
        "colab_type": "code",
        "outputId": "254b56d7-8d83-4e23-b72d-cb30129fda23",
        "colab": {}
      },
      "source": [
        "import pandas as pd\n",
        "\n",
        "flight_duration = pd.read_csv(\"/Users/wliu7/Projects/notebook/ai_demo/notebooks/notes/box-cox-sample_data.csv\")\n",
        "\n",
        "flight_duration.head()"
      ],
      "execution_count": 0,
      "outputs": [
        {
          "output_type": "execute_result",
          "data": {
            "text/html": [
              "<div>\n",
              "<style scoped>\n",
              "    .dataframe tbody tr th:only-of-type {\n",
              "        vertical-align: middle;\n",
              "    }\n",
              "\n",
              "    .dataframe tbody tr th {\n",
              "        vertical-align: top;\n",
              "    }\n",
              "\n",
              "    .dataframe thead th {\n",
              "        text-align: right;\n",
              "    }\n",
              "</style>\n",
              "<table border=\"1\" class=\"dataframe\">\n",
              "  <thead>\n",
              "    <tr style=\"text-align: right;\">\n",
              "      <th></th>\n",
              "      <th>MONTH</th>\n",
              "      <th>AIR_TIME</th>\n",
              "    </tr>\n",
              "  </thead>\n",
              "  <tbody>\n",
              "    <tr>\n",
              "      <th>0</th>\n",
              "      <td>1</td>\n",
              "      <td>28</td>\n",
              "    </tr>\n",
              "    <tr>\n",
              "      <th>1</th>\n",
              "      <td>1</td>\n",
              "      <td>29</td>\n",
              "    </tr>\n",
              "    <tr>\n",
              "      <th>2</th>\n",
              "      <td>1</td>\n",
              "      <td>29</td>\n",
              "    </tr>\n",
              "    <tr>\n",
              "      <th>3</th>\n",
              "      <td>1</td>\n",
              "      <td>29</td>\n",
              "    </tr>\n",
              "    <tr>\n",
              "      <th>4</th>\n",
              "      <td>1</td>\n",
              "      <td>29</td>\n",
              "    </tr>\n",
              "  </tbody>\n",
              "</table>\n",
              "</div>"
            ],
            "text/plain": [
              "   MONTH  AIR_TIME\n",
              "0      1        28\n",
              "1      1        29\n",
              "2      1        29\n",
              "3      1        29\n",
              "4      1        29"
            ]
          },
          "metadata": {
            "tags": []
          },
          "execution_count": 29
        }
      ]
    },
    {
      "cell_type": "markdown",
      "metadata": {
        "id": "8VneJyKjhs0F",
        "colab_type": "text"
      },
      "source": [
        "Let show the histogram of the flight duration"
      ]
    },
    {
      "cell_type": "code",
      "metadata": {
        "id": "dP3O9Egchs0G",
        "colab_type": "code",
        "outputId": "b8577d4b-10d3-40aa-c8a7-2b8779095e12",
        "colab": {}
      },
      "source": [
        "%matplotlib inline\n",
        "\n",
        "import seaborn as sns\n",
        "\n",
        "sns.distplot(flight_duration.AIR_TIME)"
      ],
      "execution_count": 0,
      "outputs": [
        {
          "output_type": "execute_result",
          "data": {
            "text/plain": [
              "<matplotlib.axes._subplots.AxesSubplot at 0x1a28ca60b8>"
            ]
          },
          "metadata": {
            "tags": []
          },
          "execution_count": 30
        },
        {
          "output_type": "display_data",
          "data": {
            "image/png": "[encoded data removed]",
            "text/plain": [
              "<Figure size 432x288 with 1 Axes>"
            ]
          },
          "metadata": {
            "tags": [],
            "needs_background": "light"
          }
        }
      ]
    },
    {
      "cell_type": "markdown",
      "metadata": {
        "id": "qkXsNypvhs0I",
        "colab_type": "text"
      },
      "source": [
        "This data, while it isn't horrible, is significantly skewed. Lets see if we can improve the shape a little, we can draw the normal Q-Q plot "
      ]
    },
    {
      "cell_type": "code",
      "metadata": {
        "id": "VHE4IS1Nhs0J",
        "colab_type": "code",
        "outputId": "dc4c508f-ed79-4a52-c795-9dc3d62c6b93",
        "colab": {}
      },
      "source": [
        "from scipy import stats\n",
        "import pylab\n",
        "\n",
        "stats.probplot(flight_duration.AIR_TIME, dist=stats.norm, plot=pylab)\n",
        "pylab.show()"
      ],
      "execution_count": 0,
      "outputs": [
        {
          "output_type": "display_data",
          "data": {
            "image/png": "[encoded data removed]",
            "text/plain": [
              "<Figure size 432x288 with 1 Axes>"
            ]
          },
          "metadata": {
            "tags": [],
            "needs_background": "light"
          }
        }
      ]
    },
    {
      "cell_type": "markdown",
      "metadata": {
        "id": "KdMoUNXyhs0M",
        "colab_type": "text"
      },
      "source": [
        "The Q-Q plot show the flight time are far away the normal distrtion, we can use Box Cox tranformation on it"
      ]
    },
    {
      "cell_type": "code",
      "metadata": {
        "id": "q6ZycHWChs0N",
        "colab_type": "code",
        "outputId": "2bb1a842-ac81-4bcd-d910-c112961cf85b",
        "colab": {}
      },
      "source": [
        "from scipy import stats\n",
        "\n",
        "tranformed_flight_times, lam = stats.boxcox(flight_duration.AIR_TIME)\n",
        "\n",
        "print(lam)\n",
        "\n",
        "sns.distplot(tranformed_flight_times)"
      ],
      "execution_count": 0,
      "outputs": [
        {
          "output_type": "stream",
          "text": [
            "0.2807713393426487\n"
          ],
          "name": "stdout"
        },
        {
          "output_type": "execute_result",
          "data": {
            "text/plain": [
              "<matplotlib.axes._subplots.AxesSubplot at 0x1a26403b38>"
            ]
          },
          "metadata": {
            "tags": []
          },
          "execution_count": 37
        },
        {
          "output_type": "display_data",
          "data": {
            "image/png": "[encoded data removed]",
            "text/plain": [
              "<Figure size 432x288 with 1 Axes>"
            ]
          },
          "metadata": {
            "tags": [],
            "needs_background": "light"
          }
        }
      ]
    },
    {
      "cell_type": "markdown",
      "metadata": {
        "id": "a4sn0S2dhs0Q",
        "colab_type": "text"
      },
      "source": [
        "The transformed data is now much more regularized and ready to be used or transformed further."
      ]
    },
    {
      "cell_type": "code",
      "metadata": {
        "id": "pJf5WbBahs0Q",
        "colab_type": "code",
        "outputId": "048727b9-13a7-4080-9b2a-d9985e1fd981",
        "colab": {}
      },
      "source": [
        "y = (np.power(flight_duration.AIR_TIME.values, lam) - 1) / lam\n",
        "\n",
        "sns.distplot(y)"
      ],
      "execution_count": 0,
      "outputs": [
        {
          "output_type": "execute_result",
          "data": {
            "text/plain": [
              "<matplotlib.axes._subplots.AxesSubplot at 0x1a2672d048>"
            ]
          },
          "metadata": {
            "tags": []
          },
          "execution_count": 47
        },
        {
          "output_type": "display_data",
          "data": {
            "image/png": "[encoded data removed]",
            "text/plain": [
              "<Figure size 432x288 with 1 Axes>"
            ]
          },
          "metadata": {
            "tags": [],
            "needs_background": "light"
          }
        }
      ]
    },
    {
      "cell_type": "code",
      "metadata": {
        "id": "ElHEIRqzhs0T",
        "colab_type": "code",
        "colab": {}
      },
      "source": [
        ""
      ],
      "execution_count": 0,
      "outputs": []
    }
  ]
}